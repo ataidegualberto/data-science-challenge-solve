{
 "cells": [
  {
   "cell_type": "code",
   "execution_count": 1,
   "metadata": {},
   "outputs": [],
   "source": [
    "from PIL import Image\n",
    "from pytesseract import pytesseract\n",
    "import mysql.connector, re\n",
    "from mysql.connector import Error"
   ]
  },
  {
   "cell_type": "markdown",
   "metadata": {},
   "source": [
    "Obtendo o texto da imagem utilizando a biblioteca tesseract"
   ]
  },
  {
   "cell_type": "code",
   "execution_count": 2,
   "metadata": {},
   "outputs": [
    {
     "name": "stdout",
     "output_type": "stream",
     "text": [
      "Lorem ipsum dolor sit amet, consectetur adipiscing elit, sed\n",
      "do eiusmod tempor incididunt ut labore et dolore magna\n",
      "aliqua. Ut enim ad minim veniam, quis nostrud exercitation\n",
      "ullamco laboris nisi ut aliquip ex ea commodo consequat.\n",
      "Duis aute irure dolor in .com prehenderit in voluptate velit\n",
      "esse cillum dolore eu fugiat nulla pariatur. Excepteur sint\n",
      "occaecat cupidatat non proident, sunt in culpa qui officia\n",
      "\n",
      "deserunt mollit anim id est laborum.\n",
      "\n",
      "Lorem ipsum dolor sit amet, consectetur adipiscing elit, sed\n",
      "do eiusmod tempor incididunt ut labore et dolore magna\n",
      "aliqua. Ut enim ad minim v@@eniam, quis nostrud\n",
      "exercitation ullamco laboris nisi ut aliquip ex ea commodo\n",
      "consequat. Duis aute irure dolor in reprehenderit in voluptate\n",
      "velit esse cillum dolore eu fugiat nulla pariatur. Excepteur sint\n",
      "occaecat cupidatat non proident, sunt in culpa qui officia\n",
      "\n",
      "deserunt mollit anim id est laborum.\n",
      "\n",
      "john.doe@mail.com (11) 11111-1111\n",
      "\n"
     ]
    }
   ],
   "source": [
    "caminho_tesseract = r\"C:\\Program Files\\Tesseract-OCR\\tesseract.exe\"\n",
    "caminho_imagem = r\"Dados.png\"\n",
    "\n",
    "img = Image.open(caminho_imagem)\n",
    "pytesseract.tesseract_cmd = caminho_tesseract\n",
    "texto = pytesseract.image_to_string(img)\n",
    "print(texto)"
   ]
  },
  {
   "cell_type": "markdown",
   "metadata": {},
   "source": [
    "Encontrando os emails"
   ]
  },
  {
   "cell_type": "code",
   "execution_count": 3,
   "metadata": {},
   "outputs": [
    {
     "name": "stdout",
     "output_type": "stream",
     "text": [
      "['john.doe@mail.com']\n"
     ]
    }
   ],
   "source": [
    "# Lista de possíveis domínios de emails presentes no texto (incluindo o domínio fictício mail)\n",
    "lista_de_emails = ['hotmail', 'gmail', 'outlook', 'yahoo', 'mail']\n",
    "\n",
    "emails_encontrados = []\n",
    "for palavra in texto.split():\n",
    "    for dominio in lista_de_emails:\n",
    "        if palavra.find(dominio) != -1:\n",
    "            emails_encontrados.append(palavra)\n",
    "\n",
    "n_emails = len(emails_encontrados)\n",
    "print(emails_encontrados)"
   ]
  },
  {
   "cell_type": "markdown",
   "metadata": {},
   "source": [
    "Encontrando os números de telefone utilizando expressões regulares"
   ]
  },
  {
   "cell_type": "code",
   "execution_count": 4,
   "metadata": {},
   "outputs": [
    {
     "name": "stdout",
     "output_type": "stream",
     "text": [
      "['(11) 11111-1111']\n"
     ]
    }
   ],
   "source": [
    "numeros_encontrados = re.findall(\"\\(?\\d+\\)?[ ]?\\d+[-. ]?\\d+\", texto)\n",
    "n_numeros = len(numeros_encontrados)\n",
    "print(numeros_encontrados)"
   ]
  },
  {
   "cell_type": "markdown",
   "metadata": {},
   "source": [
    "Verificando se a quantidade de emails e telefones são iguais"
   ]
  },
  {
   "cell_type": "code",
   "execution_count": 5,
   "metadata": {},
   "outputs": [
    {
     "name": "stdout",
     "output_type": "stream",
     "text": [
      "True\n"
     ]
    }
   ],
   "source": [
    "print(n_numeros == n_emails)"
   ]
  },
  {
   "cell_type": "markdown",
   "metadata": {},
   "source": [
    "Criando a tabela Contatos para inserir os dados"
   ]
  },
  {
   "cell_type": "code",
   "execution_count": 6,
   "metadata": {},
   "outputs": [
    {
     "name": "stdout",
     "output_type": "stream",
     "text": [
      "Tabela criada com sucesso.\n",
      "Conexão com MySQL finalizada\n"
     ]
    }
   ],
   "source": [
    "try:\n",
    "    \"\"\" Utilizei user e password diferentes,\n",
    "        pois instalei o mysql no meu pc para verificar\n",
    "        se os códigos desenvolvidos estavam funcionando corretamente.\n",
    "    \"\"\"\n",
    "    \n",
    "    conexao = mysql.connector.connect(host = 'localhost',\n",
    "                                      database = 'mydatabase',\n",
    "                                      user = 'root',\n",
    "                                      password = '1234')\n",
    "                                      \n",
    "    Create_Table =  \"\"\"CREATE TABLE Contatos2( \n",
    "                    Id INT AUTO_INCREMENT NOT NULL,\n",
    "                    Email VARCHAR(100) NOT NULL,\n",
    "                    Telefone VARCHAR(15) NOT NULL,\n",
    "                    PRIMARY KEY (Id))\"\"\"\n",
    "\n",
    "    cursor = conexao.cursor()\n",
    "    result = cursor.execute(Create_Table)\n",
    "    print(\"Tabela criada com sucesso.\")\n",
    "\n",
    "except Error as e:\n",
    "    print(e)\n",
    "finally:\n",
    "    if conexao.is_connected():\n",
    "        cursor.close()\n",
    "        conexao.close()\n",
    "        print(\"Conexão com MySQL finalizada\")"
   ]
  },
  {
   "cell_type": "markdown",
   "metadata": {},
   "source": [
    "Inserindo os dados na tabela"
   ]
  },
  {
   "cell_type": "code",
   "execution_count": 7,
   "metadata": {},
   "outputs": [
    {
     "name": "stdout",
     "output_type": "stream",
     "text": [
      "Inserção feita com sucesso.\n",
      "Conexão com MySQL finalizada\n"
     ]
    }
   ],
   "source": [
    "try:\n",
    "    \"\"\" Utilizei user e password diferentes,\n",
    "        pois instalei o mysql no meu pc para verificar\n",
    "        se os códigos desenvolvidos estavam funcionando corretamente.\n",
    "    \"\"\"\n",
    "\n",
    "    conexao = mysql.connector.connect(host = 'localhost',\n",
    "                                         database = 'mydatabase',\n",
    "                                         user = 'root',\n",
    "                                         password = '1234')\n",
    "\n",
    "    cursor = conexao.cursor()\n",
    "    for i in range(n_emails):\n",
    "        insert = \"INSERT INTO Contatos2 (Email, Telefone) VALUES (%s, %s)\"\n",
    "        val = (emails_encontrados[i], numeros_encontrados[i])\n",
    "        cursor.execute(insert, val)\n",
    "    conexao.commit()\n",
    "    print(\"Inserção feita com sucesso.\")\n",
    "\n",
    "except Error as e:\n",
    "    print(e)\n",
    "finally:\n",
    "    if conexao.is_connected():\n",
    "        cursor.close()\n",
    "        conexao.close()\n",
    "        print(\"Conexão com MySQL finalizada\")"
   ]
  },
  {
   "cell_type": "markdown",
   "metadata": {},
   "source": [
    "Verificando a inserção"
   ]
  },
  {
   "cell_type": "code",
   "execution_count": 8,
   "metadata": {},
   "outputs": [
    {
     "name": "stdout",
     "output_type": "stream",
     "text": [
      "(1, 'john.doe@mail.com', '(11) 11111-1111')\n",
      "Conexão com MySQL finalizada\n"
     ]
    }
   ],
   "source": [
    "try:\n",
    "    \"\"\" Utilizei user e password diferentes,\n",
    "        pois instalei o mysql no meu pc para verificar\n",
    "        se os códigos desenvolvidos estavam funcionando corretamente.\n",
    "    \"\"\"\n",
    "\n",
    "    conexao = mysql.connector.connect(host = 'localhost',\n",
    "                                         database = 'mydatabase',\n",
    "                                         user = 'root',\n",
    "                                         password = '1234')\n",
    "\n",
    "    cursor = conexao.cursor()\n",
    "    cursor.execute(\"SELECT * FROM Contatos2\")\n",
    "    resultado = cursor.fetchall()\n",
    "\n",
    "    for linha in resultado:\n",
    "        print(linha)\n",
    "except Error as e:\n",
    "    print(e)\n",
    "finally:\n",
    "    if conexao.is_connected():\n",
    "        cursor.close()\n",
    "        conexao.close()\n",
    "        print(\"Conexão com MySQL finalizada\")"
   ]
  }
 ],
 "metadata": {
  "kernelspec": {
   "display_name": "Python 3.10.5 64-bit",
   "language": "python",
   "name": "python3"
  },
  "language_info": {
   "codemirror_mode": {
    "name": "ipython",
    "version": 3
   },
   "file_extension": ".py",
   "mimetype": "text/x-python",
   "name": "python",
   "nbconvert_exporter": "python",
   "pygments_lexer": "ipython3",
   "version": "3.10.5"
  },
  "orig_nbformat": 4,
  "vscode": {
   "interpreter": {
    "hash": "32b6365f16a9560d1f64eaf7f0cd3e0262cb733df60217a199a198ac26346325"
   }
  }
 },
 "nbformat": 4,
 "nbformat_minor": 2
}
